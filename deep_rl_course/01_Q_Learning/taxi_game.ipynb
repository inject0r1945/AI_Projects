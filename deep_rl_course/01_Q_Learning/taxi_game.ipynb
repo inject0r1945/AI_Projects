{
 "cells": [
  {
   "cell_type": "code",
   "execution_count": 1,
   "id": "10e1befa",
   "metadata": {},
   "outputs": [],
   "source": [
    "import numpy as np\n",
    "import gym\n",
    "import random\n",
    "from time import sleep\n",
    "import matplotlib.pyplot as plt\n",
    "\n",
    "from tqdm.notebook import tqdm"
   ]
  },
  {
   "cell_type": "markdown",
   "id": "864ee88f",
   "metadata": {},
   "source": [
    "# Q-Learning для игры Taxi-v3\n",
    "\n",
    "В данной игре необходимо довезти пассажира до указанной точки с помощью такси. Так как пространство игры очень маленькое, то данную задачу можно решить с помощью Q-Learning\n",
    "\n",
    "## 1 Создание игровой среды \n",
    "### 1.1 Правила игры\n",
    "\n",
    "Что известно об игре:\n",
    "\n",
    "- размер поля 5x5\n",
    "- такси появляется в случайном месте\n",
    "- пассажир появляется случайно в одной из четырех локаций: (R, B, G, Y) и хочет отправиться в одну из этих случайных локаций\n",
    "\n",
    "Система вознаграждений:\n",
    "- для каждого шага: -1\n",
    "- при успешной доставке пассажира в назначенное место: +20\n",
    "- при неверной высадке пассажира: -10"
   ]
  },
  {
   "cell_type": "code",
   "execution_count": 2,
   "id": "89e9afc6",
   "metadata": {},
   "outputs": [
    {
     "name": "stdout",
     "output_type": "stream",
     "text": [
      "+---------+\n",
      "|\u001b[35mR\u001b[0m: | : :G|\n",
      "| : | : : |\n",
      "| : : : : |\n",
      "| | : |\u001b[43m \u001b[0m: |\n",
      "|\u001b[34;1mY\u001b[0m| : |B: |\n",
      "+---------+\n",
      "\n"
     ]
    }
   ],
   "source": [
    "env = gym.make(\"Taxi-v3\")\n",
    "_ = env.reset()\n",
    "env.render()"
   ]
  },
  {
   "cell_type": "markdown",
   "id": "393f8b58",
   "metadata": {},
   "source": [
    "Для построение Q-Table нам необходимо знать количество состояний в игре и количество действий"
   ]
  },
  {
   "cell_type": "code",
   "execution_count": 3,
   "id": "01903876",
   "metadata": {},
   "outputs": [
    {
     "name": "stdout",
     "output_type": "stream",
     "text": [
      "Количество возможных состояний: 500\n",
      "Количество возможных действий: 6\n"
     ]
    }
   ],
   "source": [
    "state_space = env.observation_space.n\n",
    "print(\"Количество возможных состояний:\", state_space)\n",
    "action_space = env.action_space.n\n",
    "print(\"Количество возможных действий:\", action_space,)"
   ]
  },
  {
   "cell_type": "markdown",
   "id": "4a0ff360",
   "metadata": {},
   "source": [
    "В нашем случае Q-Table будет иметь размер 500 x 6"
   ]
  },
  {
   "cell_type": "markdown",
   "id": "a1144e43",
   "metadata": {},
   "source": [
    "## 1.1 Создание вспомогательных классов"
   ]
  },
  {
   "cell_type": "code",
   "execution_count": 4,
   "id": "255c350e",
   "metadata": {},
   "outputs": [],
   "source": [
    "class TaxiGame:\n",
    "    \"\"\" Класс игровой среды\n",
    "    \n",
    "    С помощью класса можно делать шаг в игре и получать\n",
    "    обратную связь из игровой среды\n",
    "    \"\"\"\n",
    "    \n",
    "    def __init__(self):\n",
    "        self._env = gym.make(\"Taxi-v3\")\n",
    "        self._state = self._env.reset()\n",
    "              \n",
    "    @property\n",
    "    def state_space_size(self):\n",
    "        \"\"\"Возвращает количество состояний в игре\"\"\"\n",
    "        return self._env.observation_space.n\n",
    "    \n",
    "    @property\n",
    "    def action_space_size(self):\n",
    "        \"\"\"Возвращает количество действий в игре\"\"\"\n",
    "        return self._env.action_space.n\n",
    "    \n",
    "    @property\n",
    "    def current_state(self):\n",
    "        \"\"\"Возвращает номер текущего состояния в игре\"\"\"\n",
    "        return self._state\n",
    "    \n",
    "    def action_space_sample(self):\n",
    "        \"\"\"Возвращает номер случайного действия в игре\"\"\"\n",
    "        return self._env.action_space.sample()\n",
    "    \n",
    "    def reset(self):\n",
    "        \"\"\"Сброс игры\"\"\"\n",
    "        self._state = self._env.reset()\n",
    "        \n",
    "    def render(self):\n",
    "        \"\"\"Отрисовка состояния игры\"\"\"\n",
    "        self._env.render()\n",
    "        \n",
    "    def play_step(self, action: int) -> tuple:\n",
    "        \"\"\"Сделать игровой шаг\n",
    "        \n",
    "        Параметры\n",
    "        ---------\n",
    "        action : int\n",
    "          Номер действия\n",
    "          \n",
    "        Результат\n",
    "        ---------\n",
    "        state, reward, done : (int, int, bool)\n",
    "          state - состояние после выполнения шага\n",
    "          reward - награда за выполнение шага\n",
    "          done - если True, игра закончена\n",
    "        \"\"\"\n",
    "        \n",
    "        \n",
    "        state, reward, done, info = self._env.step(action)\n",
    "        self._state = state\n",
    "        \n",
    "        return state, reward, done"
   ]
  },
  {
   "cell_type": "code",
   "execution_count": 5,
   "id": "1cd99947",
   "metadata": {},
   "outputs": [],
   "source": [
    "class QModel:\n",
    "    \"\"\" Класс модели\n",
    "    Инициализирует Q-Table\n",
    "    \n",
    "    Параметры\n",
    "    ---------\n",
    "    state_space_size : int\n",
    "      Количество состояний в игре\n",
    "    action_space_size : int\n",
    "      Количество действий в игре\n",
    "    \"\"\"\n",
    "    def __init__(self, state_space_size: int, action_space_size: int):\n",
    "        \n",
    "        self._state_space_size = state_space_size\n",
    "        self._action_space_size = action_space_size\n",
    "        \n",
    "        self.q_table = np.zeros((self._state_space_size, self._action_space_size))"
   ]
  },
  {
   "cell_type": "code",
   "execution_count": 6,
   "id": "ae9c2de7",
   "metadata": {},
   "outputs": [],
   "source": [
    "class QTrainer:\n",
    "    \"\"\"Тренер для Q-модели\n",
    "    \n",
    "    Параметры\n",
    "    ---------\n",
    "    model : QModel\n",
    "      Экземпляр класса модели\n",
    "    lr : float\n",
    "      Скорость обучения. По умолчанию 0.01.\n",
    "    gamma : float\n",
    "      Коэффициент дисконтирования. По умолчанию 0.99\n",
    "    \"\"\"\n",
    "    def __init__(self, model:QModel, lr: int=0.01, gamma: float=0.99):\n",
    "        \n",
    "        self._model = model\n",
    "        self._lr = lr\n",
    "        self._gamma = gamma\n",
    "        \n",
    "    def train_step(self, state: int, action: int, reward: int, new_state: int) -> None:\n",
    "        \"\"\" Шаг обновления Q-table\n",
    "        \n",
    "        Параметры\n",
    "        ---------\n",
    "        state : int\n",
    "          Состояние до выполнения шага\n",
    "        action : int\n",
    "          Предпринятое действие\n",
    "        reward : int\n",
    "          Награда за предпринятое действие\n",
    "        new_state : int\n",
    "          Состояние после выполнения шага\n",
    "        \"\"\"\n",
    "        \n",
    "        # Формула расчета Q(s,a):= Q(s,a) + lr [R(s,a) + gamma * max Q(s',a') - Q(s,a)]\n",
    "        self._model.q_table[state, action] += self._lr * (reward + self._gamma * \n",
    "                                                          np.max(self._model.q_table[new_state]) \n",
    "                                                          - self._model.q_table[state, action])"
   ]
  },
  {
   "cell_type": "code",
   "execution_count": 7,
   "id": "5f3b6748",
   "metadata": {},
   "outputs": [],
   "source": [
    "class Agent:\n",
    "    \"\"\"\n",
    "    Класс агента\n",
    "    \n",
    "    Параметры\n",
    "    ---------\n",
    "    lr : float\n",
    "      Скорость обучения. По умолчанию 0.01.\n",
    "    gamma : float\n",
    "     Коэффициент дисконтирования. По умолчанию 0.99\n",
    "    epsilon : float\n",
    "      Параметр для политики выбора действий e-greedy. По умолчанию 1.0\n",
    "      Здесь задается стартовое значение. С каждым эпизодом \n",
    "      значение уменьшается по следующей формуле:\n",
    "      \n",
    "      min_epsilon + (max_epsilon - min_epsilon) * e^(-decay_rate * episode_number)\n",
    "      \n",
    "      где episode_number - номер эпизода игры.\n",
    "      \n",
    "    max_epsilon : float\n",
    "      Максимальное значение, которое может принимать epsilon. По умолчанию 1.0\n",
    "    min_epsilon : float\n",
    "      Минимальное значение epsilon. По умолчанию 0.001.\n",
    "    decay_rate : float\n",
    "      Коэффициент понижения значения epsilon. По умолчанию 0.01\n",
    "    \"\"\"\n",
    "    \n",
    "    def __init__(self, lr=0.01, gamma=0.99, epsilon=1.0, max_epsilon=1.0, min_epsilon=0.001,\n",
    "                decay_rate=0.01):\n",
    "        \n",
    "        self._lr = lr\n",
    "        self._gamma = gamma\n",
    "        self._epsilon = epsilon\n",
    "        self._max_epsilon = max_epsilon\n",
    "        self._min_epsilon = min_epsilon\n",
    "        self._decay_rate = decay_rate\n",
    "        \n",
    "        self.init()\n",
    "        \n",
    "    def init(self):\n",
    "        \n",
    "        self.game = TaxiGame()\n",
    "        self.game.reset()\n",
    "        \n",
    "        self._model = QModel(state_space_size=self.game.state_space_size, \n",
    "                             action_space_size=self.game.action_space_size)\n",
    "        self._trainer = QTrainer(model=self._model, lr=self._lr, gamma=self._gamma)\n",
    "        \n",
    "        self._n_episodes = 0\n",
    "        \n",
    "    def get_state(self):\n",
    "        return self.game.current_state\n",
    "        \n",
    "    @property\n",
    "    def n_episodes(self):\n",
    "        return self._n_episodes\n",
    "    \n",
    "    @n_episodes.setter\n",
    "    def n_episodes(self, n):\n",
    "        self._n_episodes = n\n",
    "        \n",
    "    def get_action(self, state):\n",
    "        \"\"\" Выбор действия с помощью политики epsilon-greedy.\n",
    "        С вероятностью 1 - epsilon выбираем эксплуатацию опыта (наилучшее действие),\n",
    "        с вероятностью epsilon выбираем режим исследования (случайный выбор действия).\n",
    "        С увеличением кол-ва игр размер epsilon уменьшается.\n",
    "        \n",
    "        Параметры\n",
    "        ---------\n",
    "        state : int\n",
    "          Номер текущего состояния\n",
    "        \"\"\"\n",
    "        \n",
    "        assert state is not None\n",
    "        \n",
    "        current_epsilon = self._min_epsilon + (self._max_epsilon - self._min_epsilon)*np.exp(-self._decay_rate*self._n_episodes)\n",
    "        \n",
    "        # Условие эксплуатации\n",
    "        if(random.uniform(0,1) > current_epsilon):\n",
    "            action = np.argmax(self._model.q_table[state])\n",
    "        # иначе --> исследование\n",
    "        else:\n",
    "            action = self.game.action_space_sample()\n",
    "            \n",
    "        return action\n",
    "    \n",
    "    def train_q_table(self, state, action, reward, new_state):\n",
    "        \"\"\" Обучаем Q-table на одном временном шаге\n",
    "        \n",
    "        Параметры\n",
    "        ---------\n",
    "        state : int\n",
    "          Состояние до выполнения шага\n",
    "        action : int\n",
    "          Предпринятое действие\n",
    "        reward : int\n",
    "          Награда за предпринятое действие\n",
    "        new_state : int\n",
    "          Состояние после выполнения шага\n",
    "        \"\"\"\n",
    "        self._trainer.train_step(state=state, action=action, reward=reward, new_state=new_state)"
   ]
  },
  {
   "cell_type": "markdown",
   "id": "7884c899",
   "metadata": {},
   "source": [
    "### 1.3 Анализ скорости уменьшения epsilon в зависимости от гиперпараметра decay_rate\n",
    "\n",
    "В классе Agent есть параметр decay_rate, который влияет на скорость снижения коэффициента epsilon в политике выбора действия eps-greedy.\n",
    "\n",
    "Проверим скорость уменьшения epsilon в зависимости от разных значений decay_rate. epsilon рассчитывается по следующей формуле:\n",
    "\n",
    "$$ \\epsilon = max\\_epsilon + (max\\_epsilon - min\\_epsilon) * e^{(-decay\\_rate * episode\\_number)}$$\n",
    "\n",
    "Чем больше epsilon, тем больше вероятность исследования окружающей среды со стороны агента."
   ]
  },
  {
   "cell_type": "code",
   "execution_count": 8,
   "id": "a29fd0b5",
   "metadata": {},
   "outputs": [
    {
     "data": {
      "image/png": "[encoded data removed]",
      "text/plain": [
       "<Figure size 1008x504 with 1 Axes>"
      ]
     },
     "metadata": {
      "needs_background": "light"
     },
     "output_type": "display_data"
    }
   ],
   "source": [
    "min_epsilon = 0.03\n",
    "max_epsilon = 1.0\n",
    "decay_rate = 0.03\n",
    "num_episodes = 25000\n",
    "episode_number = np.arange(0, num_episodes)\n",
    "\n",
    "plt.figure(figsize=(14, 7))\n",
    "for decay_rate in (0.01, 0.05, 0.003, 0.001, 0.0005, 0.0003, 0.0002):\n",
    "    epsilons = min_epsilon + (max_epsilon - min_epsilon) * np.exp(-decay_rate*episode_number)\n",
    "    plt.plot(episode_number, epsilons, label=f\"decay_rate={decay_rate}\")\n",
    "\n",
    "plt.title(\"Скорость уменьшения epsilon политики eps-greedy в зависимости от параметра decay_rate\")\n",
    "plt.xlabel(\"Номер эпизода\")\n",
    "plt.ylabel(\"epsilon\")\n",
    "plt.grid()\n",
    "plt.xticks(np.linspace(0, num_episodes, 20))\n",
    "plt.yticks(np.linspace(0, 1, 10))\n",
    "plt.legend()\n",
    "plt.show()"
   ]
  },
  {
   "cell_type": "markdown",
   "id": "026e8356",
   "metadata": {},
   "source": [
    "Из графика видно, что при уменьшении размера decay_rate, скорость уменьшения epsilon ниже. Мы будем обучать агента на 25000 эпизодах, в нашем случае можно пробовать брать decay_rate до 0.003 или ниже. \n",
    "\n",
    "## 2 Обучение агента\n",
    "\n",
    "### 2.1 Создание вспомогательных функций"
   ]
  },
  {
   "cell_type": "code",
   "execution_count": 9,
   "id": "b765f3eb",
   "metadata": {},
   "outputs": [],
   "source": [
    "def train_loop(agent: Agent, total_episodes=25000, max_steps=250) -> tuple:\n",
    "    \"\"\" Обучение агента\n",
    "    \n",
    "    Параметры\n",
    "    ---------\n",
    "    agent : Agent\n",
    "      Экземпляр класса Agent\n",
    "    total_episodes : int\n",
    "      Количество эпизодов для обучения\n",
    "    max_steps : int\n",
    "      Максимальное число шагов в игре\n",
    "    \"\"\"\n",
    "    \n",
    "    # Инциализируем агента\n",
    "    agent.init()\n",
    "    \n",
    "    # Делаем шаги по эпизодам\n",
    "    for episode_idx in tqdm(range(total_episodes)):\n",
    "        \n",
    "        # Для каждого эпизода сбрасываем игру\n",
    "        agent.game.reset()\n",
    "        # Устанавливаем номер эпизода у агента, требуется для расчета epsilon\n",
    "        agent.n_episodes = episode_idx\n",
    "        \n",
    "        # Делаем шаги в эпизоде\n",
    "        for step_idx in range(max_steps):\n",
    "            \n",
    "            # Получаем текущее состояние\n",
    "            state = agent.get_state()\n",
    "            \n",
    "            # С помощью политики получаем действие для текущего состояния\n",
    "            action = agent.get_action(state)\n",
    "            \n",
    "            # Выполняем действие в среде и получаем от нее обратную связь\n",
    "            new_state, reward, done = agent.game.play_step(action)\n",
    "            \n",
    "            # Тренируем Q-table\n",
    "            agent.train_q_table(state=state, action=action, reward=reward, new_state=new_state)\n",
    "\n",
    "            # Если эпизод закончен, то прерываем шаги по нему и переходим к следующему\n",
    "            if done:\n",
    "                break"
   ]
  },
  {
   "cell_type": "code",
   "execution_count": 10,
   "id": "1df8683a",
   "metadata": {},
   "outputs": [],
   "source": [
    "def play_game(agent, total_episodes=1, max_steps=250, render=True) -> tuple:\n",
    "    \"\"\" Играем агентов в игру\n",
    "    \n",
    "    Параметры\n",
    "    ---------\n",
    "    agent : Agent\n",
    "      Обученный экземпляр класса Agent\n",
    "    total_episodes : int\n",
    "      Количество эпизодов для обучения\n",
    "    max_steps : int\n",
    "      Максимальное число шагов в игре\n",
    "    render : bool\n",
    "      Если True, то будет отрисован каждый шаг в игре\n",
    "    \n",
    "    Результат\n",
    "    ---------\n",
    "    rewards, steps : (list, list)\n",
    "      rewards - список наград для каждого эпизода\n",
    "      steps - список количества шагов для каждого эпизода\n",
    "    \"\"\"\n",
    "    \n",
    "    rewards = []\n",
    "    steps = []\n",
    "    \n",
    "    for episode_idx in range(total_episodes):\n",
    "        \n",
    "        # Для каждого эпизода сбрасываем игру\n",
    "        agent.game.reset()\n",
    "        \n",
    "        # Сумма нагрды в эпизоде\n",
    "        total_rewards = 0\n",
    "        # Сумма шагов в эпизоде\n",
    "        total_steps = 0\n",
    "        \n",
    "        if render:\n",
    "            print(f\"Эпизод {episode_idx}\")\n",
    "\n",
    "        # Делаем шаги в эпизоде\n",
    "        for step_idx in range(max_steps):\n",
    "            \n",
    "            if render:\n",
    "                agent.game.render()\n",
    "            \n",
    "            # Получаем текущее состояние\n",
    "            state = agent.get_state()\n",
    "            \n",
    "            # С помощью политики получаем действие для текущего состояния\n",
    "            action = agent.get_action(state)\n",
    "            \n",
    "            # Выполняем действие в среде и получаем от нее обратную связь\n",
    "            new_state, reward, done = agent.game.play_step(action)\n",
    "            \n",
    "            total_rewards += reward\n",
    "            total_steps += 1\n",
    "\n",
    "            if done:\n",
    "                break\n",
    "            \n",
    "        rewards.append(total_rewards)\n",
    "        steps.append(total_steps)\n",
    "        \n",
    "    return np.array(rewards), np.array(steps)"
   ]
  },
  {
   "cell_type": "markdown",
   "id": "9f0d2526",
   "metadata": {},
   "source": [
    "### 2.2 Обучение агента"
   ]
  },
  {
   "cell_type": "code",
   "execution_count": 11,
   "id": "87c931bb",
   "metadata": {},
   "outputs": [],
   "source": [
    "config = {\n",
    "    'agent': {\n",
    "        'lr': 0.01, \n",
    "        'gamma': 0.99, \n",
    "        'epsilon': 1.0, \n",
    "        'max_epsilon': 1.0, \n",
    "        'min_epsilon': 0.001,\n",
    "        'decay_rate': 0.003,\n",
    "    },\n",
    "    'train_loop': {\n",
    "        'total_episodes': 25000,\n",
    "        'max_steps': 250\n",
    "    } \n",
    "}"
   ]
  },
  {
   "cell_type": "code",
   "execution_count": 12,
   "id": "5b8086af",
   "metadata": {},
   "outputs": [],
   "source": [
    "agent = Agent(**config['agent'])"
   ]
  },
  {
   "cell_type": "code",
   "execution_count": 13,
   "id": "dcd87a24",
   "metadata": {},
   "outputs": [
    {
     "data": {
      "application/vnd.jupyter.widget-view+json": {
       "model_id": "59d1f7fd928642dab472dd78f8f14910",
       "version_major": 2,
       "version_minor": 0
      },
      "text/plain": [
       "  0%|          | 0/25000 [00:00<?, ?it/s]"
      ]
     },
     "metadata": {},
     "output_type": "display_data"
    }
   ],
   "source": [
    "train_loop(agent, **config['train_loop'])"
   ]
  },
  {
   "cell_type": "markdown",
   "id": "80653eca",
   "metadata": {},
   "source": [
    "### 2.3 Проверка результатов обучения агента\n",
    "#### 2.3.1 Визуализация одного эпизода игры"
   ]
  },
  {
   "cell_type": "code",
   "execution_count": 14,
   "id": "ba82498d",
   "metadata": {},
   "outputs": [
    {
     "name": "stdout",
     "output_type": "stream",
     "text": [
      "Эпизод 0\n",
      "+---------+\n",
      "|R: | : :G|\n",
      "| : | :\u001b[43m \u001b[0m: |\n",
      "| : : : : |\n",
      "| | : | : |\n",
      "|\u001b[35mY\u001b[0m| : |\u001b[34;1mB\u001b[0m: |\n",
      "+---------+\n",
      "\n",
      "+---------+\n",
      "|R: | : :G|\n",
      "| : | : : |\n",
      "| : : :\u001b[43m \u001b[0m: |\n",
      "| | : | : |\n",
      "|\u001b[35mY\u001b[0m| : |\u001b[34;1mB\u001b[0m: |\n",
      "+---------+\n",
      "  (South)\n",
      "+---------+\n",
      "|R: | : :G|\n",
      "| : | : : |\n",
      "| : : : : |\n",
      "| | : |\u001b[43m \u001b[0m: |\n",
      "|\u001b[35mY\u001b[0m| : |\u001b[34;1mB\u001b[0m: |\n",
      "+---------+\n",
      "  (South)\n",
      "+---------+\n",
      "|R: | : :G|\n",
      "| : | : : |\n",
      "| : : : : |\n",
      "| | : | : |\n",
      "|\u001b[35mY\u001b[0m| : |\u001b[34;1m\u001b[43mB\u001b[0m\u001b[0m: |\n",
      "+---------+\n",
      "  (South)\n",
      "+---------+\n",
      "|R: | : :G|\n",
      "| : | : : |\n",
      "| : : : : |\n",
      "| | : | : |\n",
      "|\u001b[35mY\u001b[0m| : |\u001b[42mB\u001b[0m: |\n",
      "+---------+\n",
      "  (Pickup)\n",
      "+---------+\n",
      "|R: | : :G|\n",
      "| : | : : |\n",
      "| : : : : |\n",
      "| | : |\u001b[42m_\u001b[0m: |\n",
      "|\u001b[35mY\u001b[0m| : |B: |\n",
      "+---------+\n",
      "  (North)\n",
      "+---------+\n",
      "|R: | : :G|\n",
      "| : | : : |\n",
      "| : : :\u001b[42m_\u001b[0m: |\n",
      "| | : | : |\n",
      "|\u001b[35mY\u001b[0m| : |B: |\n",
      "+---------+\n",
      "  (North)\n",
      "+---------+\n",
      "|R: | : :G|\n",
      "| : | : : |\n",
      "| : :\u001b[42m_\u001b[0m: : |\n",
      "| | : | : |\n",
      "|\u001b[35mY\u001b[0m| : |B: |\n",
      "+---------+\n",
      "  (West)\n",
      "+---------+\n",
      "|R: | : :G|\n",
      "| : | : : |\n",
      "| :\u001b[42m_\u001b[0m: : : |\n",
      "| | : | : |\n",
      "|\u001b[35mY\u001b[0m| : |B: |\n",
      "+---------+\n",
      "  (West)\n",
      "+---------+\n",
      "|R: | : :G|\n",
      "| : | : : |\n",
      "|\u001b[42m_\u001b[0m: : : : |\n",
      "| | : | : |\n",
      "|\u001b[35mY\u001b[0m| : |B: |\n",
      "+---------+\n",
      "  (West)\n",
      "+---------+\n",
      "|R: | : :G|\n",
      "| : | : : |\n",
      "| : : : : |\n",
      "|\u001b[42m_\u001b[0m| : | : |\n",
      "|\u001b[35mY\u001b[0m| : |B: |\n",
      "+---------+\n",
      "  (South)\n",
      "+---------+\n",
      "|R: | : :G|\n",
      "| : | : : |\n",
      "| : : : : |\n",
      "| | : | : |\n",
      "|\u001b[35m\u001b[42mY\u001b[0m\u001b[0m| : |B: |\n",
      "+---------+\n",
      "  (South)\n"
     ]
    }
   ],
   "source": [
    "rewards, steps = play_game(agent, total_episodes=1, max_steps=250, render=True)"
   ]
  },
  {
   "cell_type": "code",
   "execution_count": 15,
   "id": "28683f8d",
   "metadata": {},
   "outputs": [
    {
     "name": "stdout",
     "output_type": "stream",
     "text": [
      "Награда в эпизоде: 9\n",
      "Число шагов в эпизоде: 12\n"
     ]
    }
   ],
   "source": [
    "print(\"Награда в эпизоде:\", rewards[0])\n",
    "print(\"Число шагов в эпизоде:\", steps[0])"
   ]
  },
  {
   "cell_type": "markdown",
   "id": "1c12c90d",
   "metadata": {},
   "source": [
    "#### 2.3.2 Сбор статистики эффективности агента в игре\n",
    "\n",
    "Соберем статистику игры агента на 5000 эпизодах"
   ]
  },
  {
   "cell_type": "code",
   "execution_count": 16,
   "id": "2a632af4",
   "metadata": {},
   "outputs": [],
   "source": [
    "rewards, steps = play_game(agent, total_episodes=5000, max_steps=250, render=False)"
   ]
  },
  {
   "cell_type": "code",
   "execution_count": 17,
   "id": "14b27e3c",
   "metadata": {},
   "outputs": [
    {
     "name": "stdout",
     "output_type": "stream",
     "text": [
      "Медианная награда в эпизоде: 8.0\n",
      "Средняя награда в эпизоде: 6.4694\n",
      "Медианное число шагов в эпизоде: 13.0\n",
      "Среднее число шагов в эпизоде: 14.3638\n",
      "Количество эпизодов с отрицательной наградой: 47\n"
     ]
    }
   ],
   "source": [
    "print(\"Медианная награда в эпизоде:\", np.median(rewards))\n",
    "print(\"Средняя награда в эпизоде:\", np.mean(rewards))\n",
    "print(\"Медианное число шагов в эпизоде:\", np.median(steps))\n",
    "print(\"Среднее число шагов в эпизоде:\", np.mean(steps))\n",
    "print(\"Количество эпизодов с отрицательной наградой:\", len(np.where(rewards < 0)[0]))"
   ]
  },
  {
   "cell_type": "markdown",
   "id": "a65d4d9c",
   "metadata": {},
   "source": [
    "Как видно из результатов, агент по медианному значению справляется с работой за 13 шагов. И получает примерно 8 очков награды из возможных 20. При этом количество эпизодов с отрицательной наградой составляем примерно 2% от их общего количества. В этом случае агент либо слишком долго довозит клиента до требуемого места, либо высаживает его в неверном месте. Это достаточно хороший результат.\n",
    "\n",
    "# Итоги\n",
    "\n",
    "В данной работе обучили агента играть игру Taxi-v3 с помощью техники Q-Learning. Создали необходимые классы для обучения агента, обучили его и визуализировали результаты работы обученного агента."
   ]
  }
 ],
 "metadata": {
  "kernelspec": {
   "display_name": "Python 3 (ipykernel)",
   "language": "python",
   "name": "python3"
  },
  "language_info": {
   "codemirror_mode": {
    "name": "ipython",
    "version": 3
   },
   "file_extension": ".py",
   "mimetype": "text/x-python",
   "name": "python",
   "nbconvert_exporter": "python",
   "pygments_lexer": "ipython3",
   "version": "3.8.12"
  }
 },
 "nbformat": 4,
 "nbformat_minor": 5
}
